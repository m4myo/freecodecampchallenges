{
 "cells": [
  {
   "cell_type": "code",
   "execution_count": 1,
   "id": "b66b233c",
   "metadata": {},
   "outputs": [],
   "source": [
    "import pandas as pd"
   ]
  },
  {
   "cell_type": "code",
   "execution_count": 2,
   "id": "a4737c10",
   "metadata": {},
   "outputs": [
    {
     "data": {
      "text/html": [
       "<div>\n",
       "<style scoped>\n",
       "    .dataframe tbody tr th:only-of-type {\n",
       "        vertical-align: middle;\n",
       "    }\n",
       "\n",
       "    .dataframe tbody tr th {\n",
       "        vertical-align: top;\n",
       "    }\n",
       "\n",
       "    .dataframe thead th {\n",
       "        text-align: right;\n",
       "    }\n",
       "</style>\n",
       "<table border=\"1\" class=\"dataframe\">\n",
       "  <thead>\n",
       "    <tr style=\"text-align: right;\">\n",
       "      <th></th>\n",
       "      <th>age</th>\n",
       "      <th>workclass</th>\n",
       "      <th>fnlwgt</th>\n",
       "      <th>education</th>\n",
       "      <th>education-num</th>\n",
       "      <th>marital-status</th>\n",
       "      <th>occupation</th>\n",
       "      <th>relationship</th>\n",
       "      <th>sex</th>\n",
       "      <th>capital-gain</th>\n",
       "      <th>capital-loss</th>\n",
       "      <th>hours-per-week</th>\n",
       "      <th>native-country</th>\n",
       "      <th>salary</th>\n",
       "    </tr>\n",
       "    <tr>\n",
       "      <th>race</th>\n",
       "      <th></th>\n",
       "      <th></th>\n",
       "      <th></th>\n",
       "      <th></th>\n",
       "      <th></th>\n",
       "      <th></th>\n",
       "      <th></th>\n",
       "      <th></th>\n",
       "      <th></th>\n",
       "      <th></th>\n",
       "      <th></th>\n",
       "      <th></th>\n",
       "      <th></th>\n",
       "      <th></th>\n",
       "    </tr>\n",
       "  </thead>\n",
       "  <tbody>\n",
       "    <tr>\n",
       "      <th>White</th>\n",
       "      <td>39</td>\n",
       "      <td>State-gov</td>\n",
       "      <td>77516</td>\n",
       "      <td>Bachelors</td>\n",
       "      <td>13</td>\n",
       "      <td>Never-married</td>\n",
       "      <td>Adm-clerical</td>\n",
       "      <td>Not-in-family</td>\n",
       "      <td>Male</td>\n",
       "      <td>2174</td>\n",
       "      <td>0</td>\n",
       "      <td>40</td>\n",
       "      <td>United-States</td>\n",
       "      <td>&lt;=50K</td>\n",
       "    </tr>\n",
       "    <tr>\n",
       "      <th>White</th>\n",
       "      <td>50</td>\n",
       "      <td>Self-emp-not-inc</td>\n",
       "      <td>83311</td>\n",
       "      <td>Bachelors</td>\n",
       "      <td>13</td>\n",
       "      <td>Married-civ-spouse</td>\n",
       "      <td>Exec-managerial</td>\n",
       "      <td>Husband</td>\n",
       "      <td>Male</td>\n",
       "      <td>0</td>\n",
       "      <td>0</td>\n",
       "      <td>13</td>\n",
       "      <td>United-States</td>\n",
       "      <td>&lt;=50K</td>\n",
       "    </tr>\n",
       "    <tr>\n",
       "      <th>White</th>\n",
       "      <td>38</td>\n",
       "      <td>Private</td>\n",
       "      <td>215646</td>\n",
       "      <td>HS-grad</td>\n",
       "      <td>9</td>\n",
       "      <td>Divorced</td>\n",
       "      <td>Handlers-cleaners</td>\n",
       "      <td>Not-in-family</td>\n",
       "      <td>Male</td>\n",
       "      <td>0</td>\n",
       "      <td>0</td>\n",
       "      <td>40</td>\n",
       "      <td>United-States</td>\n",
       "      <td>&lt;=50K</td>\n",
       "    </tr>\n",
       "    <tr>\n",
       "      <th>Black</th>\n",
       "      <td>53</td>\n",
       "      <td>Private</td>\n",
       "      <td>234721</td>\n",
       "      <td>11th</td>\n",
       "      <td>7</td>\n",
       "      <td>Married-civ-spouse</td>\n",
       "      <td>Handlers-cleaners</td>\n",
       "      <td>Husband</td>\n",
       "      <td>Male</td>\n",
       "      <td>0</td>\n",
       "      <td>0</td>\n",
       "      <td>40</td>\n",
       "      <td>United-States</td>\n",
       "      <td>&lt;=50K</td>\n",
       "    </tr>\n",
       "    <tr>\n",
       "      <th>Black</th>\n",
       "      <td>28</td>\n",
       "      <td>Private</td>\n",
       "      <td>338409</td>\n",
       "      <td>Bachelors</td>\n",
       "      <td>13</td>\n",
       "      <td>Married-civ-spouse</td>\n",
       "      <td>Prof-specialty</td>\n",
       "      <td>Wife</td>\n",
       "      <td>Female</td>\n",
       "      <td>0</td>\n",
       "      <td>0</td>\n",
       "      <td>40</td>\n",
       "      <td>Cuba</td>\n",
       "      <td>&lt;=50K</td>\n",
       "    </tr>\n",
       "  </tbody>\n",
       "</table>\n",
       "</div>"
      ],
      "text/plain": [
       "       age         workclass  fnlwgt  education  education-num  \\\n",
       "race                                                             \n",
       "White   39         State-gov   77516  Bachelors             13   \n",
       "White   50  Self-emp-not-inc   83311  Bachelors             13   \n",
       "White   38           Private  215646    HS-grad              9   \n",
       "Black   53           Private  234721       11th              7   \n",
       "Black   28           Private  338409  Bachelors             13   \n",
       "\n",
       "           marital-status         occupation   relationship     sex  \\\n",
       "race                                                                  \n",
       "White       Never-married       Adm-clerical  Not-in-family    Male   \n",
       "White  Married-civ-spouse    Exec-managerial        Husband    Male   \n",
       "White            Divorced  Handlers-cleaners  Not-in-family    Male   \n",
       "Black  Married-civ-spouse  Handlers-cleaners        Husband    Male   \n",
       "Black  Married-civ-spouse     Prof-specialty           Wife  Female   \n",
       "\n",
       "       capital-gain  capital-loss  hours-per-week native-country salary  \n",
       "race                                                                     \n",
       "White          2174             0              40  United-States  <=50K  \n",
       "White             0             0              13  United-States  <=50K  \n",
       "White             0             0              40  United-States  <=50K  \n",
       "Black             0             0              40  United-States  <=50K  \n",
       "Black             0             0              40           Cuba  <=50K  "
      ]
     },
     "execution_count": 2,
     "metadata": {},
     "output_type": "execute_result"
    }
   ],
   "source": [
    "df = pd.read_csv(\"adult.data.csv\", index_col = 'race')\n",
    "df.head()"
   ]
  },
  {
   "cell_type": "markdown",
   "id": "60bbc26b",
   "metadata": {},
   "source": [
    "### 1. How many people of each race are represented in this dataset? This should be a Pandas series with race names as the index labels. (race column)\n"
   ]
  },
  {
   "cell_type": "code",
   "execution_count": 3,
   "id": "03b6ca6d",
   "metadata": {},
   "outputs": [
    {
     "data": {
      "text/plain": [
       "White                 27816\n",
       "Black                  3124\n",
       "Asian-Pac-Islander     1039\n",
       "Amer-Indian-Eskimo      311\n",
       "Other                   271\n",
       "Name: race, dtype: int64"
      ]
     },
     "execution_count": 3,
     "metadata": {},
     "output_type": "execute_result"
    }
   ],
   "source": [
    "race_count = df.index.value_counts()\n",
    "race_count"
   ]
  },
  {
   "cell_type": "code",
   "execution_count": 4,
   "id": "22416b5f",
   "metadata": {},
   "outputs": [
    {
     "data": {
      "text/plain": [
       "39.43354749885268"
      ]
     },
     "execution_count": 4,
     "metadata": {},
     "output_type": "execute_result"
    }
   ],
   "source": [
    "men = df[df['sex']=='Male']\n",
    "average_age_men = men['age'].mean()\n",
    "average_age_men"
   ]
  },
  {
   "cell_type": "code",
   "execution_count": 5,
   "id": "9abe7555",
   "metadata": {},
   "outputs": [],
   "source": [
    "bachelors = df[df['education'] == 'Bachelors']\n",
    "education_total = len(df)\n",
    "education_bachelor = bachelors['education'].value_counts()\n",
    "\n",
    "percentage_bachelors = education_bachelor / education_total * 100"
   ]
  },
  {
   "cell_type": "markdown",
   "id": "0df4a946",
   "metadata": {},
   "source": [
    "### 2. What percentage of people with advanced education (`Bachelors`, `Masters`, or `Doctorate`) make more than 50K?"
   ]
  },
  {
   "cell_type": "code",
   "execution_count": 6,
   "id": "463a08bb",
   "metadata": {},
   "outputs": [],
   "source": [
    "higher_education_check = (df['education'] == 'Bachelors') | (df['education'] == 'Masters') | (df['education'] == 'Doctorate')"
   ]
  },
  {
   "cell_type": "code",
   "execution_count": 7,
   "id": "eef35e7c",
   "metadata": {},
   "outputs": [
    {
     "data": {
      "text/plain": [
       "7491"
      ]
     },
     "execution_count": 7,
     "metadata": {},
     "output_type": "execute_result"
    }
   ],
   "source": [
    "df_higheredu = df[higher_education_check]\n",
    "higheredu_total = len(df_higheredu)\n",
    "higheredu_total"
   ]
  },
  {
   "cell_type": "code",
   "execution_count": 8,
   "id": "40dc53ed",
   "metadata": {},
   "outputs": [
    {
     "data": {
      "text/plain": [
       "3486"
      ]
     },
     "execution_count": 8,
     "metadata": {},
     "output_type": "execute_result"
    }
   ],
   "source": [
    "high_salary_50k = df_higheredu['salary'] == '>50K'\n",
    "high_total_50k = len(df_higheredu[high_salary_50k])\n",
    "high_total_50k"
   ]
  },
  {
   "cell_type": "code",
   "execution_count": 9,
   "id": "bc7c5d8a",
   "metadata": {},
   "outputs": [
    {
     "data": {
      "text/plain": [
       "46.535843011613935"
      ]
     },
     "execution_count": 9,
     "metadata": {},
     "output_type": "execute_result"
    }
   ],
   "source": [
    "higher_education = high_total_50k / higheredu_total * 100\n",
    "higher_education"
   ]
  },
  {
   "cell_type": "code",
   "execution_count": 10,
   "id": "5258ae21",
   "metadata": {},
   "outputs": [
    {
     "data": {
      "text/plain": [
       "25070"
      ]
     },
     "execution_count": 10,
     "metadata": {},
     "output_type": "execute_result"
    }
   ],
   "source": [
    "df_loweredu = df[~higher_education_check]\n",
    "loweredu_total = len(df_loweredu)\n",
    "loweredu_total"
   ]
  },
  {
   "cell_type": "code",
   "execution_count": 11,
   "id": "5c0bc89e",
   "metadata": {},
   "outputs": [
    {
     "data": {
      "text/plain": [
       "4355"
      ]
     },
     "execution_count": 11,
     "metadata": {},
     "output_type": "execute_result"
    }
   ],
   "source": [
    "low_salary_50k = df_loweredu['salary'] == '>50K'\n",
    "low_total_50k = len(df_loweredu[low_salary_50k])\n",
    "low_total_50k\n",
    "#low_total_50k = len(df_higheredu[low_salary_50k])"
   ]
  },
  {
   "cell_type": "code",
   "execution_count": 12,
   "id": "824eba1c",
   "metadata": {},
   "outputs": [
    {
     "data": {
      "text/plain": [
       "17.3713601914639"
      ]
     },
     "execution_count": 12,
     "metadata": {},
     "output_type": "execute_result"
    }
   ],
   "source": [
    "lower_education = low_total_50k / loweredu_total * 100\n",
    "lower_education"
   ]
  },
  {
   "cell_type": "markdown",
   "id": "5613aa14",
   "metadata": {},
   "source": [
    "### 3. What is the minimum number of hours a person works per week (hours-per-week feature)?"
   ]
  },
  {
   "cell_type": "code",
   "execution_count": 13,
   "id": "4f5db742",
   "metadata": {
    "scrolled": true
   },
   "outputs": [
    {
     "data": {
      "text/plain": [
       "1"
      ]
     },
     "execution_count": 13,
     "metadata": {},
     "output_type": "execute_result"
    }
   ],
   "source": [
    "min_work_hours = df['hours-per-week'].min()\n",
    "min_work_hours"
   ]
  },
  {
   "cell_type": "markdown",
   "id": "52ee55a1",
   "metadata": {},
   "source": [
    "### 4. What percentage of the people who work the minimum number of hours per week have a salary of >50K?"
   ]
  },
  {
   "cell_type": "code",
   "execution_count": 14,
   "id": "76141405",
   "metadata": {},
   "outputs": [
    {
     "data": {
      "text/plain": [
       "20"
      ]
     },
     "execution_count": 14,
     "metadata": {},
     "output_type": "execute_result"
    }
   ],
   "source": [
    "min_workhour_df = df[df['hours-per-week'] == min_work_hours]\n",
    "len(min_workhour_df)"
   ]
  },
  {
   "cell_type": "code",
   "execution_count": 15,
   "id": "7810193b",
   "metadata": {},
   "outputs": [
    {
     "data": {
      "text/plain": [
       "2"
      ]
     },
     "execution_count": 15,
     "metadata": {},
     "output_type": "execute_result"
    }
   ],
   "source": [
    "min_workhour_50K = min_workhour_df['salary'] == '>50K'\n",
    "len(min_workhour_df[min_workhour_50K])"
   ]
  },
  {
   "cell_type": "code",
   "execution_count": 37,
   "id": "cf6dfbb5",
   "metadata": {
    "scrolled": true
   },
   "outputs": [
    {
     "name": "stdout",
     "output_type": "stream",
     "text": [
      "10.0 %\n"
     ]
    },
    {
     "data": {
      "text/html": [
       "<div>\n",
       "<style scoped>\n",
       "    .dataframe tbody tr th:only-of-type {\n",
       "        vertical-align: middle;\n",
       "    }\n",
       "\n",
       "    .dataframe tbody tr th {\n",
       "        vertical-align: top;\n",
       "    }\n",
       "\n",
       "    .dataframe thead th {\n",
       "        text-align: right;\n",
       "    }\n",
       "</style>\n",
       "<table border=\"1\" class=\"dataframe\">\n",
       "  <thead>\n",
       "    <tr style=\"text-align: right;\">\n",
       "      <th></th>\n",
       "      <th>age</th>\n",
       "      <th>workclass</th>\n",
       "      <th>fnlwgt</th>\n",
       "      <th>education</th>\n",
       "      <th>education-num</th>\n",
       "      <th>marital-status</th>\n",
       "      <th>occupation</th>\n",
       "      <th>relationship</th>\n",
       "      <th>sex</th>\n",
       "      <th>capital-gain</th>\n",
       "      <th>capital-loss</th>\n",
       "      <th>hours-per-week</th>\n",
       "      <th>native-country</th>\n",
       "      <th>salary</th>\n",
       "    </tr>\n",
       "    <tr>\n",
       "      <th>race</th>\n",
       "      <th></th>\n",
       "      <th></th>\n",
       "      <th></th>\n",
       "      <th></th>\n",
       "      <th></th>\n",
       "      <th></th>\n",
       "      <th></th>\n",
       "      <th></th>\n",
       "      <th></th>\n",
       "      <th></th>\n",
       "      <th></th>\n",
       "      <th></th>\n",
       "      <th></th>\n",
       "      <th></th>\n",
       "    </tr>\n",
       "  </thead>\n",
       "  <tbody>\n",
       "    <tr>\n",
       "      <th>White</th>\n",
       "      <td>58</td>\n",
       "      <td>State-gov</td>\n",
       "      <td>109567</td>\n",
       "      <td>Doctorate</td>\n",
       "      <td>16</td>\n",
       "      <td>Married-civ-spouse</td>\n",
       "      <td>Prof-specialty</td>\n",
       "      <td>Husband</td>\n",
       "      <td>Male</td>\n",
       "      <td>0</td>\n",
       "      <td>0</td>\n",
       "      <td>1</td>\n",
       "      <td>United-States</td>\n",
       "      <td>&gt;50K</td>\n",
       "    </tr>\n",
       "    <tr>\n",
       "      <th>White</th>\n",
       "      <td>66</td>\n",
       "      <td>Self-emp-inc</td>\n",
       "      <td>150726</td>\n",
       "      <td>9th</td>\n",
       "      <td>5</td>\n",
       "      <td>Married-civ-spouse</td>\n",
       "      <td>Exec-managerial</td>\n",
       "      <td>Husband</td>\n",
       "      <td>Male</td>\n",
       "      <td>1409</td>\n",
       "      <td>0</td>\n",
       "      <td>1</td>\n",
       "      <td>?</td>\n",
       "      <td>&lt;=50K</td>\n",
       "    </tr>\n",
       "    <tr>\n",
       "      <th>White</th>\n",
       "      <td>69</td>\n",
       "      <td>?</td>\n",
       "      <td>195779</td>\n",
       "      <td>Assoc-voc</td>\n",
       "      <td>11</td>\n",
       "      <td>Widowed</td>\n",
       "      <td>?</td>\n",
       "      <td>Not-in-family</td>\n",
       "      <td>Female</td>\n",
       "      <td>0</td>\n",
       "      <td>0</td>\n",
       "      <td>1</td>\n",
       "      <td>United-States</td>\n",
       "      <td>&lt;=50K</td>\n",
       "    </tr>\n",
       "    <tr>\n",
       "      <th>White</th>\n",
       "      <td>78</td>\n",
       "      <td>?</td>\n",
       "      <td>363134</td>\n",
       "      <td>HS-grad</td>\n",
       "      <td>9</td>\n",
       "      <td>Widowed</td>\n",
       "      <td>?</td>\n",
       "      <td>Not-in-family</td>\n",
       "      <td>Female</td>\n",
       "      <td>0</td>\n",
       "      <td>0</td>\n",
       "      <td>1</td>\n",
       "      <td>United-States</td>\n",
       "      <td>&lt;=50K</td>\n",
       "    </tr>\n",
       "    <tr>\n",
       "      <th>White</th>\n",
       "      <td>45</td>\n",
       "      <td>?</td>\n",
       "      <td>189564</td>\n",
       "      <td>Masters</td>\n",
       "      <td>14</td>\n",
       "      <td>Married-civ-spouse</td>\n",
       "      <td>?</td>\n",
       "      <td>Wife</td>\n",
       "      <td>Female</td>\n",
       "      <td>0</td>\n",
       "      <td>0</td>\n",
       "      <td>1</td>\n",
       "      <td>United-States</td>\n",
       "      <td>&lt;=50K</td>\n",
       "    </tr>\n",
       "  </tbody>\n",
       "</table>\n",
       "</div>"
      ],
      "text/plain": [
       "       age     workclass  fnlwgt  education  education-num  \\\n",
       "race                                                         \n",
       "White   58     State-gov  109567  Doctorate             16   \n",
       "White   66  Self-emp-inc  150726        9th              5   \n",
       "White   69             ?  195779  Assoc-voc             11   \n",
       "White   78             ?  363134    HS-grad              9   \n",
       "White   45             ?  189564    Masters             14   \n",
       "\n",
       "           marital-status       occupation   relationship     sex  \\\n",
       "race                                                                \n",
       "White  Married-civ-spouse   Prof-specialty        Husband    Male   \n",
       "White  Married-civ-spouse  Exec-managerial        Husband    Male   \n",
       "White             Widowed                ?  Not-in-family  Female   \n",
       "White             Widowed                ?  Not-in-family  Female   \n",
       "White  Married-civ-spouse                ?           Wife  Female   \n",
       "\n",
       "       capital-gain  capital-loss  hours-per-week native-country salary  \n",
       "race                                                                     \n",
       "White             0             0               1  United-States   >50K  \n",
       "White          1409             0               1              ?  <=50K  \n",
       "White             0             0               1  United-States  <=50K  \n",
       "White             0             0               1  United-States  <=50K  \n",
       "White             0             0               1  United-States  <=50K  "
      ]
     },
     "execution_count": 37,
     "metadata": {},
     "output_type": "execute_result"
    }
   ],
   "source": [
    "percent_ppl_minHour_50K = len(min_workhour_df[min_workhour_50K]) / len(min_workhour_df) * 100\n",
    "print(percent_ppl_minHour_50K, \"%\")\n",
    "min_workhour_df.head()"
   ]
  },
  {
   "cell_type": "markdown",
   "id": "178398d0",
   "metadata": {},
   "source": [
    "### 5. What country has the highest percentage of people that earn >50K?"
   ]
  },
  {
   "cell_type": "code",
   "execution_count": 17,
   "id": "7a03cb22",
   "metadata": {},
   "outputs": [],
   "source": [
    "df2 = pd.read_csv(\"adult.data.csv\")"
   ]
  },
  {
   "cell_type": "code",
   "execution_count": 18,
   "id": "129b8d6f",
   "metadata": {},
   "outputs": [
    {
     "data": {
      "text/html": [
       "<div>\n",
       "<style scoped>\n",
       "    .dataframe tbody tr th:only-of-type {\n",
       "        vertical-align: middle;\n",
       "    }\n",
       "\n",
       "    .dataframe tbody tr th {\n",
       "        vertical-align: top;\n",
       "    }\n",
       "\n",
       "    .dataframe thead th {\n",
       "        text-align: right;\n",
       "    }\n",
       "</style>\n",
       "<table border=\"1\" class=\"dataframe\">\n",
       "  <thead>\n",
       "    <tr style=\"text-align: right;\">\n",
       "      <th></th>\n",
       "      <th>age</th>\n",
       "      <th>workclass</th>\n",
       "      <th>fnlwgt</th>\n",
       "      <th>education</th>\n",
       "      <th>education-num</th>\n",
       "      <th>marital-status</th>\n",
       "      <th>occupation</th>\n",
       "      <th>relationship</th>\n",
       "      <th>race</th>\n",
       "      <th>sex</th>\n",
       "      <th>capital-gain</th>\n",
       "      <th>capital-loss</th>\n",
       "      <th>hours-per-week</th>\n",
       "      <th>native-country</th>\n",
       "      <th>salary</th>\n",
       "    </tr>\n",
       "  </thead>\n",
       "  <tbody>\n",
       "    <tr>\n",
       "      <th>0</th>\n",
       "      <td>39</td>\n",
       "      <td>State-gov</td>\n",
       "      <td>77516</td>\n",
       "      <td>Bachelors</td>\n",
       "      <td>13</td>\n",
       "      <td>Never-married</td>\n",
       "      <td>Adm-clerical</td>\n",
       "      <td>Not-in-family</td>\n",
       "      <td>White</td>\n",
       "      <td>Male</td>\n",
       "      <td>2174</td>\n",
       "      <td>0</td>\n",
       "      <td>40</td>\n",
       "      <td>United-States</td>\n",
       "      <td>&lt;=50K</td>\n",
       "    </tr>\n",
       "    <tr>\n",
       "      <th>1</th>\n",
       "      <td>50</td>\n",
       "      <td>Self-emp-not-inc</td>\n",
       "      <td>83311</td>\n",
       "      <td>Bachelors</td>\n",
       "      <td>13</td>\n",
       "      <td>Married-civ-spouse</td>\n",
       "      <td>Exec-managerial</td>\n",
       "      <td>Husband</td>\n",
       "      <td>White</td>\n",
       "      <td>Male</td>\n",
       "      <td>0</td>\n",
       "      <td>0</td>\n",
       "      <td>13</td>\n",
       "      <td>United-States</td>\n",
       "      <td>&lt;=50K</td>\n",
       "    </tr>\n",
       "    <tr>\n",
       "      <th>2</th>\n",
       "      <td>38</td>\n",
       "      <td>Private</td>\n",
       "      <td>215646</td>\n",
       "      <td>HS-grad</td>\n",
       "      <td>9</td>\n",
       "      <td>Divorced</td>\n",
       "      <td>Handlers-cleaners</td>\n",
       "      <td>Not-in-family</td>\n",
       "      <td>White</td>\n",
       "      <td>Male</td>\n",
       "      <td>0</td>\n",
       "      <td>0</td>\n",
       "      <td>40</td>\n",
       "      <td>United-States</td>\n",
       "      <td>&lt;=50K</td>\n",
       "    </tr>\n",
       "    <tr>\n",
       "      <th>3</th>\n",
       "      <td>53</td>\n",
       "      <td>Private</td>\n",
       "      <td>234721</td>\n",
       "      <td>11th</td>\n",
       "      <td>7</td>\n",
       "      <td>Married-civ-spouse</td>\n",
       "      <td>Handlers-cleaners</td>\n",
       "      <td>Husband</td>\n",
       "      <td>Black</td>\n",
       "      <td>Male</td>\n",
       "      <td>0</td>\n",
       "      <td>0</td>\n",
       "      <td>40</td>\n",
       "      <td>United-States</td>\n",
       "      <td>&lt;=50K</td>\n",
       "    </tr>\n",
       "    <tr>\n",
       "      <th>4</th>\n",
       "      <td>28</td>\n",
       "      <td>Private</td>\n",
       "      <td>338409</td>\n",
       "      <td>Bachelors</td>\n",
       "      <td>13</td>\n",
       "      <td>Married-civ-spouse</td>\n",
       "      <td>Prof-specialty</td>\n",
       "      <td>Wife</td>\n",
       "      <td>Black</td>\n",
       "      <td>Female</td>\n",
       "      <td>0</td>\n",
       "      <td>0</td>\n",
       "      <td>40</td>\n",
       "      <td>Cuba</td>\n",
       "      <td>&lt;=50K</td>\n",
       "    </tr>\n",
       "  </tbody>\n",
       "</table>\n",
       "</div>"
      ],
      "text/plain": [
       "   age         workclass  fnlwgt  education  education-num  \\\n",
       "0   39         State-gov   77516  Bachelors             13   \n",
       "1   50  Self-emp-not-inc   83311  Bachelors             13   \n",
       "2   38           Private  215646    HS-grad              9   \n",
       "3   53           Private  234721       11th              7   \n",
       "4   28           Private  338409  Bachelors             13   \n",
       "\n",
       "       marital-status         occupation   relationship   race     sex  \\\n",
       "0       Never-married       Adm-clerical  Not-in-family  White    Male   \n",
       "1  Married-civ-spouse    Exec-managerial        Husband  White    Male   \n",
       "2            Divorced  Handlers-cleaners  Not-in-family  White    Male   \n",
       "3  Married-civ-spouse  Handlers-cleaners        Husband  Black    Male   \n",
       "4  Married-civ-spouse     Prof-specialty           Wife  Black  Female   \n",
       "\n",
       "   capital-gain  capital-loss  hours-per-week native-country salary  \n",
       "0          2174             0              40  United-States  <=50K  \n",
       "1             0             0              13  United-States  <=50K  \n",
       "2             0             0              40  United-States  <=50K  \n",
       "3             0             0              40  United-States  <=50K  \n",
       "4             0             0              40           Cuba  <=50K  "
      ]
     },
     "execution_count": 18,
     "metadata": {},
     "output_type": "execute_result"
    }
   ],
   "source": [
    "#country_df = df2.groupby(['native-country']).size()\n",
    "df2.head()"
   ]
  },
  {
   "cell_type": "code",
   "execution_count": 28,
   "id": "d3fbd926",
   "metadata": {},
   "outputs": [],
   "source": [
    "salary_count = df2.groupby(['native-country'], as_index = False)[['salary']].value_counts()"
   ]
  },
  {
   "cell_type": "code",
   "execution_count": 20,
   "id": "8fa6027d",
   "metadata": {
    "collapsed": true
   },
   "outputs": [
    {
     "name": "stdout",
     "output_type": "stream",
     "text": [
      "? 437 146 25.04288164665523\n",
      "Cambodia 12 7 36.84210526315789\n",
      "Canada 82 39 32.231404958677686\n",
      "China 55 20 26.666666666666668\n",
      "Columbia 57 2 3.389830508474576\n",
      "Cuba 70 25 26.31578947368421\n",
      "Dominican-Republic 68 2 2.857142857142857\n",
      "Ecuador 24 4 14.285714285714285\n",
      "El-Salvador 97 9 8.49056603773585\n",
      "England 60 30 33.33333333333333\n",
      "France 17 12 41.37931034482759\n",
      "Germany 93 44 32.11678832116788\n",
      "Greece 21 8 27.586206896551722\n",
      "Guatemala 61 3 4.6875\n",
      "Haiti 40 4 9.090909090909092\n",
      "Holand-Netherlands 1 12 92.3076923076923\n",
      "Honduras 12 1 7.6923076923076925\n",
      "Hong 14 6 30.0\n",
      "Hungary 10 3 23.076923076923077\n",
      "India 60 40 40.0\n",
      "Iran 25 18 41.86046511627907\n",
      "Ireland 19 5 20.833333333333336\n",
      "Italy 48 25 34.24657534246575\n",
      "Jamaica 71 10 12.345679012345679\n",
      "Japan 38 24 38.70967741935484\n",
      "Laos 16 2 11.11111111111111\n",
      "Mexico 610 33 5.132192846034215\n",
      "Nicaragua 32 2 5.88235294117647\n",
      "Outlying-US(Guam-USVI-etc) 14 29 67.44186046511628\n",
      "Peru 29 2 6.451612903225806\n",
      "Philippines 137 61 30.808080808080806\n",
      "Poland 48 12 20.0\n",
      "Portugal 33 4 10.81081081081081\n",
      "Puerto-Rico 102 12 10.526315789473683\n",
      "Scotland 9 3 25.0\n",
      "South 64 16 20.0\n",
      "Taiwan 31 20 39.21568627450981\n",
      "Thailand 15 3 16.666666666666664\n",
      "Trinadad&Tobago 17 2 10.526315789473683\n",
      "United-States 21999 7171 24.583476174151524\n",
      "Vietnam 62 5 7.462686567164178\n",
      "Yugoslavia 10 6 37.5\n"
     ]
    }
   ],
   "source": [
    "percentage_50k = []\n",
    "percentage_50k_country = []\n",
    "count = 0\n",
    "for index in range(len(salary_count)):\n",
    "    try:\n",
    "        country = salary_count.loc[index,'native-country']\n",
    "        count_below_50 = salary_count.loc[index,'count']\n",
    "        count_above_50 = salary_count.loc[index+1,'count']\n",
    "        above_50_percentage = count_above_50 / (count_above_50 + count_below_50) * 100\n",
    "        if country not in percentage_50k_country:\n",
    "            print (country, count_below_50, count_above_50, above_50_percentage)\n",
    "            percentage_50k.append([country, above_50_percentage])\n",
    "\n",
    "        percentage_50k_country.append(country)\n",
    "        \n",
    "    except KeyError:\n",
    "        pass"
   ]
  },
  {
   "cell_type": "code",
   "execution_count": 21,
   "id": "7288c67b",
   "metadata": {
    "collapsed": true
   },
   "outputs": [
    {
     "data": {
      "text/html": [
       "<div>\n",
       "<style scoped>\n",
       "    .dataframe tbody tr th:only-of-type {\n",
       "        vertical-align: middle;\n",
       "    }\n",
       "\n",
       "    .dataframe tbody tr th {\n",
       "        vertical-align: top;\n",
       "    }\n",
       "\n",
       "    .dataframe thead th {\n",
       "        text-align: right;\n",
       "    }\n",
       "</style>\n",
       "<table border=\"1\" class=\"dataframe\">\n",
       "  <thead>\n",
       "    <tr style=\"text-align: right;\">\n",
       "      <th></th>\n",
       "      <th>Country Name</th>\n",
       "      <th>% earning above 50K</th>\n",
       "    </tr>\n",
       "  </thead>\n",
       "  <tbody>\n",
       "    <tr>\n",
       "      <th>0</th>\n",
       "      <td>?</td>\n",
       "      <td>25.042882</td>\n",
       "    </tr>\n",
       "    <tr>\n",
       "      <th>1</th>\n",
       "      <td>Cambodia</td>\n",
       "      <td>36.842105</td>\n",
       "    </tr>\n",
       "    <tr>\n",
       "      <th>2</th>\n",
       "      <td>Canada</td>\n",
       "      <td>32.231405</td>\n",
       "    </tr>\n",
       "    <tr>\n",
       "      <th>3</th>\n",
       "      <td>China</td>\n",
       "      <td>26.666667</td>\n",
       "    </tr>\n",
       "    <tr>\n",
       "      <th>4</th>\n",
       "      <td>Columbia</td>\n",
       "      <td>3.389831</td>\n",
       "    </tr>\n",
       "    <tr>\n",
       "      <th>5</th>\n",
       "      <td>Cuba</td>\n",
       "      <td>26.315789</td>\n",
       "    </tr>\n",
       "    <tr>\n",
       "      <th>6</th>\n",
       "      <td>Dominican-Republic</td>\n",
       "      <td>2.857143</td>\n",
       "    </tr>\n",
       "    <tr>\n",
       "      <th>7</th>\n",
       "      <td>Ecuador</td>\n",
       "      <td>14.285714</td>\n",
       "    </tr>\n",
       "    <tr>\n",
       "      <th>8</th>\n",
       "      <td>El-Salvador</td>\n",
       "      <td>8.490566</td>\n",
       "    </tr>\n",
       "    <tr>\n",
       "      <th>9</th>\n",
       "      <td>England</td>\n",
       "      <td>33.333333</td>\n",
       "    </tr>\n",
       "    <tr>\n",
       "      <th>10</th>\n",
       "      <td>France</td>\n",
       "      <td>41.379310</td>\n",
       "    </tr>\n",
       "    <tr>\n",
       "      <th>11</th>\n",
       "      <td>Germany</td>\n",
       "      <td>32.116788</td>\n",
       "    </tr>\n",
       "    <tr>\n",
       "      <th>12</th>\n",
       "      <td>Greece</td>\n",
       "      <td>27.586207</td>\n",
       "    </tr>\n",
       "    <tr>\n",
       "      <th>13</th>\n",
       "      <td>Guatemala</td>\n",
       "      <td>4.687500</td>\n",
       "    </tr>\n",
       "    <tr>\n",
       "      <th>14</th>\n",
       "      <td>Haiti</td>\n",
       "      <td>9.090909</td>\n",
       "    </tr>\n",
       "    <tr>\n",
       "      <th>15</th>\n",
       "      <td>Holand-Netherlands</td>\n",
       "      <td>92.307692</td>\n",
       "    </tr>\n",
       "    <tr>\n",
       "      <th>16</th>\n",
       "      <td>Honduras</td>\n",
       "      <td>7.692308</td>\n",
       "    </tr>\n",
       "    <tr>\n",
       "      <th>17</th>\n",
       "      <td>Hong</td>\n",
       "      <td>30.000000</td>\n",
       "    </tr>\n",
       "    <tr>\n",
       "      <th>18</th>\n",
       "      <td>Hungary</td>\n",
       "      <td>23.076923</td>\n",
       "    </tr>\n",
       "    <tr>\n",
       "      <th>19</th>\n",
       "      <td>India</td>\n",
       "      <td>40.000000</td>\n",
       "    </tr>\n",
       "    <tr>\n",
       "      <th>20</th>\n",
       "      <td>Iran</td>\n",
       "      <td>41.860465</td>\n",
       "    </tr>\n",
       "    <tr>\n",
       "      <th>21</th>\n",
       "      <td>Ireland</td>\n",
       "      <td>20.833333</td>\n",
       "    </tr>\n",
       "    <tr>\n",
       "      <th>22</th>\n",
       "      <td>Italy</td>\n",
       "      <td>34.246575</td>\n",
       "    </tr>\n",
       "    <tr>\n",
       "      <th>23</th>\n",
       "      <td>Jamaica</td>\n",
       "      <td>12.345679</td>\n",
       "    </tr>\n",
       "    <tr>\n",
       "      <th>24</th>\n",
       "      <td>Japan</td>\n",
       "      <td>38.709677</td>\n",
       "    </tr>\n",
       "    <tr>\n",
       "      <th>25</th>\n",
       "      <td>Laos</td>\n",
       "      <td>11.111111</td>\n",
       "    </tr>\n",
       "    <tr>\n",
       "      <th>26</th>\n",
       "      <td>Mexico</td>\n",
       "      <td>5.132193</td>\n",
       "    </tr>\n",
       "    <tr>\n",
       "      <th>27</th>\n",
       "      <td>Nicaragua</td>\n",
       "      <td>5.882353</td>\n",
       "    </tr>\n",
       "    <tr>\n",
       "      <th>28</th>\n",
       "      <td>Outlying-US(Guam-USVI-etc)</td>\n",
       "      <td>67.441860</td>\n",
       "    </tr>\n",
       "    <tr>\n",
       "      <th>29</th>\n",
       "      <td>Peru</td>\n",
       "      <td>6.451613</td>\n",
       "    </tr>\n",
       "    <tr>\n",
       "      <th>30</th>\n",
       "      <td>Philippines</td>\n",
       "      <td>30.808081</td>\n",
       "    </tr>\n",
       "    <tr>\n",
       "      <th>31</th>\n",
       "      <td>Poland</td>\n",
       "      <td>20.000000</td>\n",
       "    </tr>\n",
       "    <tr>\n",
       "      <th>32</th>\n",
       "      <td>Portugal</td>\n",
       "      <td>10.810811</td>\n",
       "    </tr>\n",
       "    <tr>\n",
       "      <th>33</th>\n",
       "      <td>Puerto-Rico</td>\n",
       "      <td>10.526316</td>\n",
       "    </tr>\n",
       "    <tr>\n",
       "      <th>34</th>\n",
       "      <td>Scotland</td>\n",
       "      <td>25.000000</td>\n",
       "    </tr>\n",
       "    <tr>\n",
       "      <th>35</th>\n",
       "      <td>South</td>\n",
       "      <td>20.000000</td>\n",
       "    </tr>\n",
       "    <tr>\n",
       "      <th>36</th>\n",
       "      <td>Taiwan</td>\n",
       "      <td>39.215686</td>\n",
       "    </tr>\n",
       "    <tr>\n",
       "      <th>37</th>\n",
       "      <td>Thailand</td>\n",
       "      <td>16.666667</td>\n",
       "    </tr>\n",
       "    <tr>\n",
       "      <th>38</th>\n",
       "      <td>Trinadad&amp;Tobago</td>\n",
       "      <td>10.526316</td>\n",
       "    </tr>\n",
       "    <tr>\n",
       "      <th>39</th>\n",
       "      <td>United-States</td>\n",
       "      <td>24.583476</td>\n",
       "    </tr>\n",
       "    <tr>\n",
       "      <th>40</th>\n",
       "      <td>Vietnam</td>\n",
       "      <td>7.462687</td>\n",
       "    </tr>\n",
       "    <tr>\n",
       "      <th>41</th>\n",
       "      <td>Yugoslavia</td>\n",
       "      <td>37.500000</td>\n",
       "    </tr>\n",
       "  </tbody>\n",
       "</table>\n",
       "</div>"
      ],
      "text/plain": [
       "                  Country Name  % earning above 50K\n",
       "0                            ?            25.042882\n",
       "1                     Cambodia            36.842105\n",
       "2                       Canada            32.231405\n",
       "3                        China            26.666667\n",
       "4                     Columbia             3.389831\n",
       "5                         Cuba            26.315789\n",
       "6           Dominican-Republic             2.857143\n",
       "7                      Ecuador            14.285714\n",
       "8                  El-Salvador             8.490566\n",
       "9                      England            33.333333\n",
       "10                      France            41.379310\n",
       "11                     Germany            32.116788\n",
       "12                      Greece            27.586207\n",
       "13                   Guatemala             4.687500\n",
       "14                       Haiti             9.090909\n",
       "15          Holand-Netherlands            92.307692\n",
       "16                    Honduras             7.692308\n",
       "17                        Hong            30.000000\n",
       "18                     Hungary            23.076923\n",
       "19                       India            40.000000\n",
       "20                        Iran            41.860465\n",
       "21                     Ireland            20.833333\n",
       "22                       Italy            34.246575\n",
       "23                     Jamaica            12.345679\n",
       "24                       Japan            38.709677\n",
       "25                        Laos            11.111111\n",
       "26                      Mexico             5.132193\n",
       "27                   Nicaragua             5.882353\n",
       "28  Outlying-US(Guam-USVI-etc)            67.441860\n",
       "29                        Peru             6.451613\n",
       "30                 Philippines            30.808081\n",
       "31                      Poland            20.000000\n",
       "32                    Portugal            10.810811\n",
       "33                 Puerto-Rico            10.526316\n",
       "34                    Scotland            25.000000\n",
       "35                       South            20.000000\n",
       "36                      Taiwan            39.215686\n",
       "37                    Thailand            16.666667\n",
       "38             Trinadad&Tobago            10.526316\n",
       "39               United-States            24.583476\n",
       "40                     Vietnam             7.462687\n",
       "41                  Yugoslavia            37.500000"
      ]
     },
     "execution_count": 21,
     "metadata": {},
     "output_type": "execute_result"
    }
   ],
   "source": [
    "country_earning_df = pd.DataFrame(percentage_50k, columns =['Country Name','% earning above 50K'])\n",
    "country_earning_df"
   ]
  },
  {
   "cell_type": "code",
   "execution_count": 38,
   "id": "b123f95c",
   "metadata": {},
   "outputs": [
    {
     "data": {
      "text/html": [
       "<div>\n",
       "<style scoped>\n",
       "    .dataframe tbody tr th:only-of-type {\n",
       "        vertical-align: middle;\n",
       "    }\n",
       "\n",
       "    .dataframe tbody tr th {\n",
       "        vertical-align: top;\n",
       "    }\n",
       "\n",
       "    .dataframe thead th {\n",
       "        text-align: right;\n",
       "    }\n",
       "</style>\n",
       "<table border=\"1\" class=\"dataframe\">\n",
       "  <thead>\n",
       "    <tr style=\"text-align: right;\">\n",
       "      <th></th>\n",
       "      <th>Country Name</th>\n",
       "      <th>% earning above 50K</th>\n",
       "    </tr>\n",
       "  </thead>\n",
       "  <tbody>\n",
       "    <tr>\n",
       "      <th>15</th>\n",
       "      <td>Holand-Netherlands</td>\n",
       "      <td>92.307692</td>\n",
       "    </tr>\n",
       "    <tr>\n",
       "      <th>28</th>\n",
       "      <td>Outlying-US(Guam-USVI-etc)</td>\n",
       "      <td>67.441860</td>\n",
       "    </tr>\n",
       "    <tr>\n",
       "      <th>20</th>\n",
       "      <td>Iran</td>\n",
       "      <td>41.860465</td>\n",
       "    </tr>\n",
       "    <tr>\n",
       "      <th>10</th>\n",
       "      <td>France</td>\n",
       "      <td>41.379310</td>\n",
       "    </tr>\n",
       "    <tr>\n",
       "      <th>19</th>\n",
       "      <td>India</td>\n",
       "      <td>40.000000</td>\n",
       "    </tr>\n",
       "  </tbody>\n",
       "</table>\n",
       "</div>"
      ],
      "text/plain": [
       "                  Country Name  % earning above 50K\n",
       "15          Holand-Netherlands            92.307692\n",
       "28  Outlying-US(Guam-USVI-etc)            67.441860\n",
       "20                        Iran            41.860465\n",
       "10                      France            41.379310\n",
       "19                       India            40.000000"
      ]
     },
     "execution_count": 38,
     "metadata": {},
     "output_type": "execute_result"
    }
   ],
   "source": [
    "country_earning_df = country_earning_df.sort_values('% earning above 50K', ascending = False)\n",
    "country_earning_df.head()"
   ]
  },
  {
   "cell_type": "code",
   "execution_count": 23,
   "id": "5e165b0f",
   "metadata": {},
   "outputs": [
    {
     "data": {
      "text/plain": [
       "Index(['Country Name', '% earning above 50K'], dtype='object')"
      ]
     },
     "execution_count": 23,
     "metadata": {},
     "output_type": "execute_result"
    }
   ],
   "source": [
    "country_earning_df.columns"
   ]
  },
  {
   "cell_type": "code",
   "execution_count": 24,
   "id": "7276aefb",
   "metadata": {},
   "outputs": [
    {
     "data": {
      "text/plain": [
       "15    92.307692\n",
       "Name: % earning above 50K, dtype: float64"
      ]
     },
     "execution_count": 24,
     "metadata": {},
     "output_type": "execute_result"
    }
   ],
   "source": [
    "country_earning_df['% earning above 50K'].head(1)"
   ]
  },
  {
   "cell_type": "code",
   "execution_count": 25,
   "id": "74b39095",
   "metadata": {},
   "outputs": [
    {
     "data": {
      "text/plain": [
       "15    Holand-Netherlands\n",
       "Name: Country Name, dtype: object"
      ]
     },
     "execution_count": 25,
     "metadata": {},
     "output_type": "execute_result"
    }
   ],
   "source": [
    "country_earning_df['Country Name'].head(1)"
   ]
  },
  {
   "cell_type": "markdown",
   "id": "c94ee606",
   "metadata": {},
   "source": [
    "### 6. Identify the most popular occupation for those who earn >50K in India."
   ]
  },
  {
   "cell_type": "code",
   "execution_count": 26,
   "id": "fd048668",
   "metadata": {},
   "outputs": [
    {
     "data": {
      "text/html": [
       "<div>\n",
       "<style scoped>\n",
       "    .dataframe tbody tr th:only-of-type {\n",
       "        vertical-align: middle;\n",
       "    }\n",
       "\n",
       "    .dataframe tbody tr th {\n",
       "        vertical-align: top;\n",
       "    }\n",
       "\n",
       "    .dataframe thead th {\n",
       "        text-align: right;\n",
       "    }\n",
       "</style>\n",
       "<table border=\"1\" class=\"dataframe\">\n",
       "  <thead>\n",
       "    <tr style=\"text-align: right;\">\n",
       "      <th></th>\n",
       "      <th>age</th>\n",
       "      <th>workclass</th>\n",
       "      <th>fnlwgt</th>\n",
       "      <th>education</th>\n",
       "      <th>education-num</th>\n",
       "      <th>marital-status</th>\n",
       "      <th>occupation</th>\n",
       "      <th>relationship</th>\n",
       "      <th>race</th>\n",
       "      <th>sex</th>\n",
       "      <th>capital-gain</th>\n",
       "      <th>capital-loss</th>\n",
       "      <th>hours-per-week</th>\n",
       "      <th>native-country</th>\n",
       "      <th>salary</th>\n",
       "    </tr>\n",
       "  </thead>\n",
       "  <tbody>\n",
       "    <tr>\n",
       "      <th>0</th>\n",
       "      <td>39</td>\n",
       "      <td>State-gov</td>\n",
       "      <td>77516</td>\n",
       "      <td>Bachelors</td>\n",
       "      <td>13</td>\n",
       "      <td>Never-married</td>\n",
       "      <td>Adm-clerical</td>\n",
       "      <td>Not-in-family</td>\n",
       "      <td>White</td>\n",
       "      <td>Male</td>\n",
       "      <td>2174</td>\n",
       "      <td>0</td>\n",
       "      <td>40</td>\n",
       "      <td>United-States</td>\n",
       "      <td>&lt;=50K</td>\n",
       "    </tr>\n",
       "    <tr>\n",
       "      <th>1</th>\n",
       "      <td>50</td>\n",
       "      <td>Self-emp-not-inc</td>\n",
       "      <td>83311</td>\n",
       "      <td>Bachelors</td>\n",
       "      <td>13</td>\n",
       "      <td>Married-civ-spouse</td>\n",
       "      <td>Exec-managerial</td>\n",
       "      <td>Husband</td>\n",
       "      <td>White</td>\n",
       "      <td>Male</td>\n",
       "      <td>0</td>\n",
       "      <td>0</td>\n",
       "      <td>13</td>\n",
       "      <td>United-States</td>\n",
       "      <td>&lt;=50K</td>\n",
       "    </tr>\n",
       "    <tr>\n",
       "      <th>2</th>\n",
       "      <td>38</td>\n",
       "      <td>Private</td>\n",
       "      <td>215646</td>\n",
       "      <td>HS-grad</td>\n",
       "      <td>9</td>\n",
       "      <td>Divorced</td>\n",
       "      <td>Handlers-cleaners</td>\n",
       "      <td>Not-in-family</td>\n",
       "      <td>White</td>\n",
       "      <td>Male</td>\n",
       "      <td>0</td>\n",
       "      <td>0</td>\n",
       "      <td>40</td>\n",
       "      <td>United-States</td>\n",
       "      <td>&lt;=50K</td>\n",
       "    </tr>\n",
       "    <tr>\n",
       "      <th>3</th>\n",
       "      <td>53</td>\n",
       "      <td>Private</td>\n",
       "      <td>234721</td>\n",
       "      <td>11th</td>\n",
       "      <td>7</td>\n",
       "      <td>Married-civ-spouse</td>\n",
       "      <td>Handlers-cleaners</td>\n",
       "      <td>Husband</td>\n",
       "      <td>Black</td>\n",
       "      <td>Male</td>\n",
       "      <td>0</td>\n",
       "      <td>0</td>\n",
       "      <td>40</td>\n",
       "      <td>United-States</td>\n",
       "      <td>&lt;=50K</td>\n",
       "    </tr>\n",
       "    <tr>\n",
       "      <th>4</th>\n",
       "      <td>28</td>\n",
       "      <td>Private</td>\n",
       "      <td>338409</td>\n",
       "      <td>Bachelors</td>\n",
       "      <td>13</td>\n",
       "      <td>Married-civ-spouse</td>\n",
       "      <td>Prof-specialty</td>\n",
       "      <td>Wife</td>\n",
       "      <td>Black</td>\n",
       "      <td>Female</td>\n",
       "      <td>0</td>\n",
       "      <td>0</td>\n",
       "      <td>40</td>\n",
       "      <td>Cuba</td>\n",
       "      <td>&lt;=50K</td>\n",
       "    </tr>\n",
       "  </tbody>\n",
       "</table>\n",
       "</div>"
      ],
      "text/plain": [
       "   age         workclass  fnlwgt  education  education-num  \\\n",
       "0   39         State-gov   77516  Bachelors             13   \n",
       "1   50  Self-emp-not-inc   83311  Bachelors             13   \n",
       "2   38           Private  215646    HS-grad              9   \n",
       "3   53           Private  234721       11th              7   \n",
       "4   28           Private  338409  Bachelors             13   \n",
       "\n",
       "       marital-status         occupation   relationship   race     sex  \\\n",
       "0       Never-married       Adm-clerical  Not-in-family  White    Male   \n",
       "1  Married-civ-spouse    Exec-managerial        Husband  White    Male   \n",
       "2            Divorced  Handlers-cleaners  Not-in-family  White    Male   \n",
       "3  Married-civ-spouse  Handlers-cleaners        Husband  Black    Male   \n",
       "4  Married-civ-spouse     Prof-specialty           Wife  Black  Female   \n",
       "\n",
       "   capital-gain  capital-loss  hours-per-week native-country salary  \n",
       "0          2174             0              40  United-States  <=50K  \n",
       "1             0             0              13  United-States  <=50K  \n",
       "2             0             0              40  United-States  <=50K  \n",
       "3             0             0              40  United-States  <=50K  \n",
       "4             0             0              40           Cuba  <=50K  "
      ]
     },
     "execution_count": 26,
     "metadata": {},
     "output_type": "execute_result"
    }
   ],
   "source": [
    "df2.head()"
   ]
  },
  {
   "cell_type": "code",
   "execution_count": 32,
   "id": "e5ae47b9",
   "metadata": {},
   "outputs": [
    {
     "data": {
      "text/plain": [
       "occupation\n",
       "Prof-specialty    25\n",
       "dtype: int64"
      ]
     },
     "execution_count": 32,
     "metadata": {},
     "output_type": "execute_result"
    }
   ],
   "source": [
    "location_filter = df2[\"native-country\"] == \"India\"\n",
    "india_df = df2[location_filter]\n",
    "\n",
    "salary_filter = india_df['salary'] == \">50K\"\n",
    "india_df = india_df[salary_filter]\n",
    "\n",
    "india_occupations = india_df.value_counts('occupation')\n",
    "india_occupations.head(1)"
   ]
  },
  {
   "cell_type": "code",
   "execution_count": null,
   "id": "ff98d711",
   "metadata": {},
   "outputs": [],
   "source": []
  }
 ],
 "metadata": {
  "kernelspec": {
   "display_name": "Python 3 (ipykernel)",
   "language": "python",
   "name": "python3"
  },
  "language_info": {
   "codemirror_mode": {
    "name": "ipython",
    "version": 3
   },
   "file_extension": ".py",
   "mimetype": "text/x-python",
   "name": "python",
   "nbconvert_exporter": "python",
   "pygments_lexer": "ipython3",
   "version": "3.9.12"
  }
 },
 "nbformat": 4,
 "nbformat_minor": 5
}
